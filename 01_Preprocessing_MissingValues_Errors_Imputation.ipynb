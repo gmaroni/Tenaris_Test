{
 "cells": [
  {
   "cell_type": "code",
   "execution_count": 1,
   "metadata": {},
   "outputs": [],
   "source": [
    "import numpy as np\n",
    "import pandas as pd\n",
    "import matplotlib.pyplot as plt\n",
    "import seaborn as sns\n",
    "#plt.style.use('fivethirtyeight')\n",
    "sns.set(style=\"whitegrid\")\n",
    "\n",
    "%load_ext autoreload\n",
    "%autoreload 2\n",
    "%matplotlib inline"
   ]
  },
  {
   "cell_type": "code",
   "execution_count": 2,
   "metadata": {
    "scrolled": true
   },
   "outputs": [
    {
     "data": {
      "text/html": [
       "<div>\n",
       "<style scoped>\n",
       "    .dataframe tbody tr th:only-of-type {\n",
       "        vertical-align: middle;\n",
       "    }\n",
       "\n",
       "    .dataframe tbody tr th {\n",
       "        vertical-align: top;\n",
       "    }\n",
       "\n",
       "    .dataframe thead th {\n",
       "        text-align: right;\n",
       "    }\n",
       "</style>\n",
       "<table border=\"1\" class=\"dataframe\">\n",
       "  <thead>\n",
       "    <tr style=\"text-align: right;\">\n",
       "      <th></th>\n",
       "      <th>at</th>\n",
       "      <th>v</th>\n",
       "      <th>ap</th>\n",
       "      <th>rh</th>\n",
       "      <th>pe</th>\n",
       "    </tr>\n",
       "  </thead>\n",
       "  <tbody>\n",
       "    <tr>\n",
       "      <th>0</th>\n",
       "      <td>8.34</td>\n",
       "      <td>40.77</td>\n",
       "      <td>1010.84</td>\n",
       "      <td>90.01</td>\n",
       "      <td>480.48</td>\n",
       "    </tr>\n",
       "    <tr>\n",
       "      <th>1</th>\n",
       "      <td>23.64</td>\n",
       "      <td>58.49</td>\n",
       "      <td>1011.40</td>\n",
       "      <td>74.20</td>\n",
       "      <td>NaN</td>\n",
       "    </tr>\n",
       "    <tr>\n",
       "      <th>2</th>\n",
       "      <td>29.74</td>\n",
       "      <td>56.90</td>\n",
       "      <td>1007.15</td>\n",
       "      <td>41.91</td>\n",
       "      <td>438.76</td>\n",
       "    </tr>\n",
       "    <tr>\n",
       "      <th>3</th>\n",
       "      <td>19.07</td>\n",
       "      <td>49.69</td>\n",
       "      <td>1007.22</td>\n",
       "      <td>76.79</td>\n",
       "      <td>453.09</td>\n",
       "    </tr>\n",
       "    <tr>\n",
       "      <th>4</th>\n",
       "      <td>11.80</td>\n",
       "      <td>40.66</td>\n",
       "      <td>1017.13</td>\n",
       "      <td>97.20</td>\n",
       "      <td>464.43</td>\n",
       "    </tr>\n",
       "    <tr>\n",
       "      <th>5</th>\n",
       "      <td>13.97</td>\n",
       "      <td>39.16</td>\n",
       "      <td>1016.05</td>\n",
       "      <td>84.60</td>\n",
       "      <td>470.96</td>\n",
       "    </tr>\n",
       "    <tr>\n",
       "      <th>6</th>\n",
       "      <td>22.10</td>\n",
       "      <td>71.29</td>\n",
       "      <td>1008.20</td>\n",
       "      <td>75.38</td>\n",
       "      <td>442.35</td>\n",
       "    </tr>\n",
       "    <tr>\n",
       "      <th>7</th>\n",
       "      <td>14.47</td>\n",
       "      <td>41.76</td>\n",
       "      <td>1021.98</td>\n",
       "      <td>78.41</td>\n",
       "      <td>464.00</td>\n",
       "    </tr>\n",
       "    <tr>\n",
       "      <th>8</th>\n",
       "      <td>31.25</td>\n",
       "      <td>69.51</td>\n",
       "      <td>1010.25</td>\n",
       "      <td>36.83</td>\n",
       "      <td>428.77</td>\n",
       "    </tr>\n",
       "    <tr>\n",
       "      <th>9</th>\n",
       "      <td>6.77</td>\n",
       "      <td>38.18</td>\n",
       "      <td>1017.80</td>\n",
       "      <td>81.13</td>\n",
       "      <td>484.31</td>\n",
       "    </tr>\n",
       "    <tr>\n",
       "      <th>10</th>\n",
       "      <td>28.28</td>\n",
       "      <td>68.67</td>\n",
       "      <td>1006.36</td>\n",
       "      <td>69.90</td>\n",
       "      <td>435.29</td>\n",
       "    </tr>\n",
       "    <tr>\n",
       "      <th>11</th>\n",
       "      <td>22.99</td>\n",
       "      <td>46.93</td>\n",
       "      <td>1014.15</td>\n",
       "      <td>49.42</td>\n",
       "      <td>451.41</td>\n",
       "    </tr>\n",
       "    <tr>\n",
       "      <th>12</th>\n",
       "      <td>29.30</td>\n",
       "      <td>70.04</td>\n",
       "      <td>1010.95</td>\n",
       "      <td>61.23</td>\n",
       "      <td>426.25</td>\n",
       "    </tr>\n",
       "    <tr>\n",
       "      <th>13</th>\n",
       "      <td>8.14</td>\n",
       "      <td>37.49</td>\n",
       "      <td>1009.04</td>\n",
       "      <td>80.33</td>\n",
       "      <td>480.66</td>\n",
       "    </tr>\n",
       "    <tr>\n",
       "      <th>14</th>\n",
       "      <td>16.92</td>\n",
       "      <td>44.60</td>\n",
       "      <td>1017.34</td>\n",
       "      <td>58.75</td>\n",
       "      <td>460.17</td>\n",
       "    </tr>\n",
       "    <tr>\n",
       "      <th>15</th>\n",
       "      <td>22.72</td>\n",
       "      <td>64.15</td>\n",
       "      <td>1021.14</td>\n",
       "      <td>60.34</td>\n",
       "      <td>453.13</td>\n",
       "    </tr>\n",
       "    <tr>\n",
       "      <th>16</th>\n",
       "      <td>18.14</td>\n",
       "      <td>43.56</td>\n",
       "      <td>1012.83</td>\n",
       "      <td>47.10</td>\n",
       "      <td>461.71</td>\n",
       "    </tr>\n",
       "    <tr>\n",
       "      <th>17</th>\n",
       "      <td>11.49</td>\n",
       "      <td>44.63</td>\n",
       "      <td>1020.44</td>\n",
       "      <td>86.04</td>\n",
       "      <td>471.08</td>\n",
       "    </tr>\n",
       "    <tr>\n",
       "      <th>18</th>\n",
       "      <td>9.94</td>\n",
       "      <td>40.46</td>\n",
       "      <td>1018.90</td>\n",
       "      <td>68.51</td>\n",
       "      <td>473.74</td>\n",
       "    </tr>\n",
       "    <tr>\n",
       "      <th>19</th>\n",
       "      <td>23.54</td>\n",
       "      <td>41.10</td>\n",
       "      <td>1002.05</td>\n",
       "      <td>38.05</td>\n",
       "      <td>448.56</td>\n",
       "    </tr>\n",
       "    <tr>\n",
       "      <th>20</th>\n",
       "      <td>14.90</td>\n",
       "      <td>52.05</td>\n",
       "      <td>1015.11</td>\n",
       "      <td>77.33</td>\n",
       "      <td>464.82</td>\n",
       "    </tr>\n",
       "    <tr>\n",
       "      <th>21</th>\n",
       "      <td>33.80</td>\n",
       "      <td>64.96</td>\n",
       "      <td>1004.88</td>\n",
       "      <td>49.37</td>\n",
       "      <td>427.28</td>\n",
       "    </tr>\n",
       "    <tr>\n",
       "      <th>22</th>\n",
       "      <td>25.37</td>\n",
       "      <td>68.31</td>\n",
       "      <td>1011.12</td>\n",
       "      <td>70.99</td>\n",
       "      <td>441.76</td>\n",
       "    </tr>\n",
       "    <tr>\n",
       "      <th>23</th>\n",
       "      <td>7.29</td>\n",
       "      <td>41.04</td>\n",
       "      <td>1024.06</td>\n",
       "      <td>89.19</td>\n",
       "      <td>474.71</td>\n",
       "    </tr>\n",
       "    <tr>\n",
       "      <th>24</th>\n",
       "      <td>13.55</td>\n",
       "      <td>40.71</td>\n",
       "      <td>1019.13</td>\n",
       "      <td>75.44</td>\n",
       "      <td>467.21</td>\n",
       "    </tr>\n",
       "    <tr>\n",
       "      <th>25</th>\n",
       "      <td>6.39</td>\n",
       "      <td>35.57</td>\n",
       "      <td>1025.53</td>\n",
       "      <td>77.23</td>\n",
       "      <td>487.69</td>\n",
       "    </tr>\n",
       "    <tr>\n",
       "      <th>26</th>\n",
       "      <td>26.64</td>\n",
       "      <td>62.44</td>\n",
       "      <td>1011.81</td>\n",
       "      <td>72.46</td>\n",
       "      <td>438.67</td>\n",
       "    </tr>\n",
       "    <tr>\n",
       "      <th>27</th>\n",
       "      <td>7.84</td>\n",
       "      <td>41.39</td>\n",
       "      <td>1018.21</td>\n",
       "      <td>91.92</td>\n",
       "      <td>485.66</td>\n",
       "    </tr>\n",
       "    <tr>\n",
       "      <th>28</th>\n",
       "      <td>21.82</td>\n",
       "      <td>58.66</td>\n",
       "      <td>1011.71</td>\n",
       "      <td>64.37</td>\n",
       "      <td>452.16</td>\n",
       "    </tr>\n",
       "    <tr>\n",
       "      <th>29</th>\n",
       "      <td>27.17</td>\n",
       "      <td>67.45</td>\n",
       "      <td>1015.67</td>\n",
       "      <td>49.03</td>\n",
       "      <td>429.87</td>\n",
       "    </tr>\n",
       "    <tr>\n",
       "      <th>...</th>\n",
       "      <td>...</td>\n",
       "      <td>...</td>\n",
       "      <td>...</td>\n",
       "      <td>...</td>\n",
       "      <td>...</td>\n",
       "    </tr>\n",
       "    <tr>\n",
       "      <th>9532</th>\n",
       "      <td>7.11</td>\n",
       "      <td>43.13</td>\n",
       "      <td>1018.96</td>\n",
       "      <td>87.82</td>\n",
       "      <td>486.11</td>\n",
       "    </tr>\n",
       "    <tr>\n",
       "      <th>9533</th>\n",
       "      <td>21.54</td>\n",
       "      <td>58.12</td>\n",
       "      <td>1015.33</td>\n",
       "      <td>78.67</td>\n",
       "      <td>454.32</td>\n",
       "    </tr>\n",
       "    <tr>\n",
       "      <th>9534</th>\n",
       "      <td>29.45</td>\n",
       "      <td>64.96</td>\n",
       "      <td>1005.52</td>\n",
       "      <td>59.92</td>\n",
       "      <td>433.04</td>\n",
       "    </tr>\n",
       "    <tr>\n",
       "      <th>9535</th>\n",
       "      <td>31.85</td>\n",
       "      <td>68.30</td>\n",
       "      <td>1014.76</td>\n",
       "      <td>47.06</td>\n",
       "      <td>428.72</td>\n",
       "    </tr>\n",
       "    <tr>\n",
       "      <th>9536</th>\n",
       "      <td>27.30</td>\n",
       "      <td>65.12</td>\n",
       "      <td>1016.24</td>\n",
       "      <td>44.87</td>\n",
       "      <td>442.78</td>\n",
       "    </tr>\n",
       "    <tr>\n",
       "      <th>9537</th>\n",
       "      <td>13.51</td>\n",
       "      <td>39.31</td>\n",
       "      <td>1012.18</td>\n",
       "      <td>75.19</td>\n",
       "      <td>466.46</td>\n",
       "    </tr>\n",
       "    <tr>\n",
       "      <th>9538</th>\n",
       "      <td>16.73</td>\n",
       "      <td>39.64</td>\n",
       "      <td>1008.94</td>\n",
       "      <td>74.91</td>\n",
       "      <td>464.46</td>\n",
       "    </tr>\n",
       "    <tr>\n",
       "      <th>9539</th>\n",
       "      <td>25.45</td>\n",
       "      <td>69.59</td>\n",
       "      <td>1008.51</td>\n",
       "      <td>83.17</td>\n",
       "      <td>445.61</td>\n",
       "    </tr>\n",
       "    <tr>\n",
       "      <th>9540</th>\n",
       "      <td>12.88</td>\n",
       "      <td>44.34</td>\n",
       "      <td>1016.03</td>\n",
       "      <td>88.51</td>\n",
       "      <td>474.94</td>\n",
       "    </tr>\n",
       "    <tr>\n",
       "      <th>9541</th>\n",
       "      <td>22.29</td>\n",
       "      <td>43.79</td>\n",
       "      <td>1015.68</td>\n",
       "      <td>41.75</td>\n",
       "      <td>461.23</td>\n",
       "    </tr>\n",
       "    <tr>\n",
       "      <th>9542</th>\n",
       "      <td>12.07</td>\n",
       "      <td>40.81</td>\n",
       "      <td>1025.63</td>\n",
       "      <td>68.02</td>\n",
       "      <td>475.96</td>\n",
       "    </tr>\n",
       "    <tr>\n",
       "      <th>9543</th>\n",
       "      <td>18.21</td>\n",
       "      <td>62.26</td>\n",
       "      <td>1011.97</td>\n",
       "      <td>87.28</td>\n",
       "      <td>455.88</td>\n",
       "    </tr>\n",
       "    <tr>\n",
       "      <th>9544</th>\n",
       "      <td>17.53</td>\n",
       "      <td>42.24</td>\n",
       "      <td>1016.90</td>\n",
       "      <td>60.95</td>\n",
       "      <td>470.63</td>\n",
       "    </tr>\n",
       "    <tr>\n",
       "      <th>9545</th>\n",
       "      <td>23.66</td>\n",
       "      <td>61.86</td>\n",
       "      <td>1013.33</td>\n",
       "      <td>83.09</td>\n",
       "      <td>444.27</td>\n",
       "    </tr>\n",
       "    <tr>\n",
       "      <th>9546</th>\n",
       "      <td>14.18</td>\n",
       "      <td>40.69</td>\n",
       "      <td>1014.73</td>\n",
       "      <td>74.88</td>\n",
       "      <td>471.52</td>\n",
       "    </tr>\n",
       "    <tr>\n",
       "      <th>9547</th>\n",
       "      <td>13.85</td>\n",
       "      <td>41.39</td>\n",
       "      <td>1018.62</td>\n",
       "      <td>75.55</td>\n",
       "      <td>471.45</td>\n",
       "    </tr>\n",
       "    <tr>\n",
       "      <th>9548</th>\n",
       "      <td>10.06</td>\n",
       "      <td>37.83</td>\n",
       "      <td>1005.49</td>\n",
       "      <td>99.46</td>\n",
       "      <td>473.51</td>\n",
       "    </tr>\n",
       "    <tr>\n",
       "      <th>9549</th>\n",
       "      <td>26.89</td>\n",
       "      <td>70.32</td>\n",
       "      <td>1012.39</td>\n",
       "      <td>87.17</td>\n",
       "      <td>435.56</td>\n",
       "    </tr>\n",
       "    <tr>\n",
       "      <th>9550</th>\n",
       "      <td>7.72</td>\n",
       "      <td>41.14</td>\n",
       "      <td>1025.11</td>\n",
       "      <td>96.75</td>\n",
       "      <td>478.34</td>\n",
       "    </tr>\n",
       "    <tr>\n",
       "      <th>9551</th>\n",
       "      <td>27.06</td>\n",
       "      <td>43.77</td>\n",
       "      <td>1011.02</td>\n",
       "      <td>42.61</td>\n",
       "      <td>442.15</td>\n",
       "    </tr>\n",
       "    <tr>\n",
       "      <th>9552</th>\n",
       "      <td>20.18</td>\n",
       "      <td>43.56</td>\n",
       "      <td>1013.14</td>\n",
       "      <td>39.16</td>\n",
       "      <td>462.80</td>\n",
       "    </tr>\n",
       "    <tr>\n",
       "      <th>9553</th>\n",
       "      <td>18.51</td>\n",
       "      <td>50.90</td>\n",
       "      <td>1012.95</td>\n",
       "      <td>82.71</td>\n",
       "      <td>459.11</td>\n",
       "    </tr>\n",
       "    <tr>\n",
       "      <th>9554</th>\n",
       "      <td>13.60</td>\n",
       "      <td>39.82</td>\n",
       "      <td>1013.34</td>\n",
       "      <td>86.10</td>\n",
       "      <td>470.69</td>\n",
       "    </tr>\n",
       "    <tr>\n",
       "      <th>9555</th>\n",
       "      <td>33.42</td>\n",
       "      <td>68.51</td>\n",
       "      <td>1011.91</td>\n",
       "      <td>45.83</td>\n",
       "      <td>427.66</td>\n",
       "    </tr>\n",
       "    <tr>\n",
       "      <th>9556</th>\n",
       "      <td>13.79</td>\n",
       "      <td>42.07</td>\n",
       "      <td>1018.27</td>\n",
       "      <td>88.06</td>\n",
       "      <td>462.25</td>\n",
       "    </tr>\n",
       "    <tr>\n",
       "      <th>9557</th>\n",
       "      <td>15.12</td>\n",
       "      <td>48.92</td>\n",
       "      <td>1011.80</td>\n",
       "      <td>72.93</td>\n",
       "      <td>462.59</td>\n",
       "    </tr>\n",
       "    <tr>\n",
       "      <th>9558</th>\n",
       "      <td>33.41</td>\n",
       "      <td>77.95</td>\n",
       "      <td>1010.30</td>\n",
       "      <td>59.72</td>\n",
       "      <td>432.90</td>\n",
       "    </tr>\n",
       "    <tr>\n",
       "      <th>9559</th>\n",
       "      <td>15.99</td>\n",
       "      <td>43.34</td>\n",
       "      <td>1014.20</td>\n",
       "      <td>78.66</td>\n",
       "      <td>465.96</td>\n",
       "    </tr>\n",
       "    <tr>\n",
       "      <th>9560</th>\n",
       "      <td>17.65</td>\n",
       "      <td>59.87</td>\n",
       "      <td>1018.58</td>\n",
       "      <td>94.65</td>\n",
       "      <td>450.93</td>\n",
       "    </tr>\n",
       "    <tr>\n",
       "      <th>9561</th>\n",
       "      <td>23.68</td>\n",
       "      <td>51.30</td>\n",
       "      <td>1011.86</td>\n",
       "      <td>71.24</td>\n",
       "      <td>451.67</td>\n",
       "    </tr>\n",
       "  </tbody>\n",
       "</table>\n",
       "<p>9562 rows × 5 columns</p>\n",
       "</div>"
      ],
      "text/plain": [
       "         at      v       ap     rh      pe\n",
       "0      8.34  40.77  1010.84  90.01  480.48\n",
       "1     23.64  58.49  1011.40  74.20     NaN\n",
       "2     29.74  56.90  1007.15  41.91  438.76\n",
       "3     19.07  49.69  1007.22  76.79  453.09\n",
       "4     11.80  40.66  1017.13  97.20  464.43\n",
       "5     13.97  39.16  1016.05  84.60  470.96\n",
       "6     22.10  71.29  1008.20  75.38  442.35\n",
       "7     14.47  41.76  1021.98  78.41  464.00\n",
       "8     31.25  69.51  1010.25  36.83  428.77\n",
       "9      6.77  38.18  1017.80  81.13  484.31\n",
       "10    28.28  68.67  1006.36  69.90  435.29\n",
       "11    22.99  46.93  1014.15  49.42  451.41\n",
       "12    29.30  70.04  1010.95  61.23  426.25\n",
       "13     8.14  37.49  1009.04  80.33  480.66\n",
       "14    16.92  44.60  1017.34  58.75  460.17\n",
       "15    22.72  64.15  1021.14  60.34  453.13\n",
       "16    18.14  43.56  1012.83  47.10  461.71\n",
       "17    11.49  44.63  1020.44  86.04  471.08\n",
       "18     9.94  40.46  1018.90  68.51  473.74\n",
       "19    23.54  41.10  1002.05  38.05  448.56\n",
       "20    14.90  52.05  1015.11  77.33  464.82\n",
       "21    33.80  64.96  1004.88  49.37  427.28\n",
       "22    25.37  68.31  1011.12  70.99  441.76\n",
       "23     7.29  41.04  1024.06  89.19  474.71\n",
       "24    13.55  40.71  1019.13  75.44  467.21\n",
       "25     6.39  35.57  1025.53  77.23  487.69\n",
       "26    26.64  62.44  1011.81  72.46  438.67\n",
       "27     7.84  41.39  1018.21  91.92  485.66\n",
       "28    21.82  58.66  1011.71  64.37  452.16\n",
       "29    27.17  67.45  1015.67  49.03  429.87\n",
       "...     ...    ...      ...    ...     ...\n",
       "9532   7.11  43.13  1018.96  87.82  486.11\n",
       "9533  21.54  58.12  1015.33  78.67  454.32\n",
       "9534  29.45  64.96  1005.52  59.92  433.04\n",
       "9535  31.85  68.30  1014.76  47.06  428.72\n",
       "9536  27.30  65.12  1016.24  44.87  442.78\n",
       "9537  13.51  39.31  1012.18  75.19  466.46\n",
       "9538  16.73  39.64  1008.94  74.91  464.46\n",
       "9539  25.45  69.59  1008.51  83.17  445.61\n",
       "9540  12.88  44.34  1016.03  88.51  474.94\n",
       "9541  22.29  43.79  1015.68  41.75  461.23\n",
       "9542  12.07  40.81  1025.63  68.02  475.96\n",
       "9543  18.21  62.26  1011.97  87.28  455.88\n",
       "9544  17.53  42.24  1016.90  60.95  470.63\n",
       "9545  23.66  61.86  1013.33  83.09  444.27\n",
       "9546  14.18  40.69  1014.73  74.88  471.52\n",
       "9547  13.85  41.39  1018.62  75.55  471.45\n",
       "9548  10.06  37.83  1005.49  99.46  473.51\n",
       "9549  26.89  70.32  1012.39  87.17  435.56\n",
       "9550   7.72  41.14  1025.11  96.75  478.34\n",
       "9551  27.06  43.77  1011.02  42.61  442.15\n",
       "9552  20.18  43.56  1013.14  39.16  462.80\n",
       "9553  18.51  50.90  1012.95  82.71  459.11\n",
       "9554  13.60  39.82  1013.34  86.10  470.69\n",
       "9555  33.42  68.51  1011.91  45.83  427.66\n",
       "9556  13.79  42.07  1018.27  88.06  462.25\n",
       "9557  15.12  48.92  1011.80  72.93  462.59\n",
       "9558  33.41  77.95  1010.30  59.72  432.90\n",
       "9559  15.99  43.34  1014.20  78.66  465.96\n",
       "9560  17.65  59.87  1018.58  94.65  450.93\n",
       "9561  23.68  51.30  1011.86  71.24  451.67\n",
       "\n",
       "[9562 rows x 5 columns]"
      ]
     },
     "execution_count": 2,
     "metadata": {},
     "output_type": "execute_result"
    }
   ],
   "source": [
    "df = pd.read_csv('data/data_raw.csv', low_memory=False, index_col=0)\n",
    "df"
   ]
  },
  {
   "cell_type": "markdown",
   "metadata": {},
   "source": [
    "# Trattamento dei valori mancanti"
   ]
  },
  {
   "cell_type": "markdown",
   "metadata": {},
   "source": [
    "La prima cosa che faccio è quella di trovare eventuali missing values, attenzione che i missing values si possono presentare in modi diversi, possono essere NaN, oppure possono avere valori totalmente differenti dal range di valori del dato numerico che stiamo considerando come per esempio valori quali -999, oppure stringhe di testo come per esempio 'mancante'.\n",
    "\n",
    "Quindi prima procedo cercando la presenza di eventuali NaN, di seguito tramite visualizzazioni della distribuzione del singolo dato numerico identifico la presenza di eventuali valori fuori range"
   ]
  },
  {
   "cell_type": "code",
   "execution_count": 3,
   "metadata": {},
   "outputs": [
    {
     "data": {
      "text/plain": [
       "at    1\n",
       "v     0\n",
       "ap    0\n",
       "rh    0\n",
       "pe    1\n",
       "dtype: int64"
      ]
     },
     "execution_count": 3,
     "metadata": {},
     "output_type": "execute_result"
    }
   ],
   "source": [
    "df.isnull().sum()"
   ]
  },
  {
   "cell_type": "markdown",
   "metadata": {},
   "source": [
    "Vi sono solo 2 valori mancanti con NaN, una percentuale molto bassa sul totale de dati"
   ]
  },
  {
   "cell_type": "code",
   "execution_count": 4,
   "metadata": {},
   "outputs": [
    {
     "data": {
      "text/plain": [
       "0.020916126333403055"
      ]
     },
     "execution_count": 4,
     "metadata": {},
     "output_type": "execute_result"
    }
   ],
   "source": [
    "2/len(df)*100"
   ]
  },
  {
   "cell_type": "code",
   "execution_count": 5,
   "metadata": {},
   "outputs": [
    {
     "name": "stdout",
     "output_type": "stream",
     "text": [
      "<class 'pandas.core.frame.DataFrame'>\n",
      "Int64Index: 9562 entries, 0 to 9561\n",
      "Data columns (total 5 columns):\n",
      "at    9561 non-null float64\n",
      "v     9562 non-null float64\n",
      "ap    9562 non-null float64\n",
      "rh    9562 non-null float64\n",
      "pe    9561 non-null float64\n",
      "dtypes: float64(5)\n",
      "memory usage: 448.2 KB\n"
     ]
    }
   ],
   "source": [
    "df.info()"
   ]
  },
  {
   "cell_type": "markdown",
   "metadata": {},
   "source": [
    "Si osserva che sono tutti dati numerici float64 di conseguenza escludiamo la possibilità che vi siano stringhe che possano indicare la presenza di eventuali missing values come per esempio 'manca'..."
   ]
  },
  {
   "cell_type": "code",
   "execution_count": 6,
   "metadata": {
    "scrolled": true
   },
   "outputs": [
    {
     "data": {
      "text/html": [
       "<div>\n",
       "<style scoped>\n",
       "    .dataframe tbody tr th:only-of-type {\n",
       "        vertical-align: middle;\n",
       "    }\n",
       "\n",
       "    .dataframe tbody tr th {\n",
       "        vertical-align: top;\n",
       "    }\n",
       "\n",
       "    .dataframe thead th {\n",
       "        text-align: right;\n",
       "    }\n",
       "</style>\n",
       "<table border=\"1\" class=\"dataframe\">\n",
       "  <thead>\n",
       "    <tr style=\"text-align: right;\">\n",
       "      <th></th>\n",
       "      <th>at</th>\n",
       "      <th>v</th>\n",
       "      <th>ap</th>\n",
       "      <th>rh</th>\n",
       "      <th>pe</th>\n",
       "    </tr>\n",
       "  </thead>\n",
       "  <tbody>\n",
       "    <tr>\n",
       "      <th>count</th>\n",
       "      <td>9561.000000</td>\n",
       "      <td>9562.000000</td>\n",
       "      <td>9562.000000</td>\n",
       "      <td>9562.000000</td>\n",
       "      <td>9561.000000</td>\n",
       "    </tr>\n",
       "    <tr>\n",
       "      <th>mean</th>\n",
       "      <td>19.649934</td>\n",
       "      <td>54.304997</td>\n",
       "      <td>1023.666162</td>\n",
       "      <td>73.313351</td>\n",
       "      <td>501.091809</td>\n",
       "    </tr>\n",
       "    <tr>\n",
       "      <th>std</th>\n",
       "      <td>7.453167</td>\n",
       "      <td>12.710158</td>\n",
       "      <td>1017.404967</td>\n",
       "      <td>14.601321</td>\n",
       "      <td>4568.388984</td>\n",
       "    </tr>\n",
       "    <tr>\n",
       "      <th>min</th>\n",
       "      <td>1.810000</td>\n",
       "      <td>25.360000</td>\n",
       "      <td>992.890000</td>\n",
       "      <td>25.560000</td>\n",
       "      <td>420.260000</td>\n",
       "    </tr>\n",
       "    <tr>\n",
       "      <th>25%</th>\n",
       "      <td>13.510000</td>\n",
       "      <td>41.740000</td>\n",
       "      <td>1009.102500</td>\n",
       "      <td>63.340000</td>\n",
       "      <td>439.750000</td>\n",
       "    </tr>\n",
       "    <tr>\n",
       "      <th>50%</th>\n",
       "      <td>20.340000</td>\n",
       "      <td>52.080000</td>\n",
       "      <td>1012.950000</td>\n",
       "      <td>74.980000</td>\n",
       "      <td>451.620000</td>\n",
       "    </tr>\n",
       "    <tr>\n",
       "      <th>75%</th>\n",
       "      <td>25.720000</td>\n",
       "      <td>66.540000</td>\n",
       "      <td>1017.260000</td>\n",
       "      <td>84.837500</td>\n",
       "      <td>468.450000</td>\n",
       "    </tr>\n",
       "    <tr>\n",
       "      <th>max</th>\n",
       "      <td>37.110000</td>\n",
       "      <td>81.560000</td>\n",
       "      <td>100499.000000</td>\n",
       "      <td>100.160000</td>\n",
       "      <td>447150.000000</td>\n",
       "    </tr>\n",
       "  </tbody>\n",
       "</table>\n",
       "</div>"
      ],
      "text/plain": [
       "                at            v             ap           rh             pe\n",
       "count  9561.000000  9562.000000    9562.000000  9562.000000    9561.000000\n",
       "mean     19.649934    54.304997    1023.666162    73.313351     501.091809\n",
       "std       7.453167    12.710158    1017.404967    14.601321    4568.388984\n",
       "min       1.810000    25.360000     992.890000    25.560000     420.260000\n",
       "25%      13.510000    41.740000    1009.102500    63.340000     439.750000\n",
       "50%      20.340000    52.080000    1012.950000    74.980000     451.620000\n",
       "75%      25.720000    66.540000    1017.260000    84.837500     468.450000\n",
       "max      37.110000    81.560000  100499.000000   100.160000  447150.000000"
      ]
     },
     "execution_count": 6,
     "metadata": {},
     "output_type": "execute_result"
    }
   ],
   "source": [
    "df.describe()"
   ]
  },
  {
   "cell_type": "markdown",
   "metadata": {},
   "source": [
    "Dalla tabella soprastante si osserva inoltre che la variabile ap e la variabile target pe presentano dei valori fuori range molto distanti dal loro valor medio e di conseguenza sono sicuramente errori"
   ]
  },
  {
   "cell_type": "markdown",
   "metadata": {},
   "source": [
    "Si osserva che vi sono solo 2 valori con NaN, uno nella colonna ap l'altro nella colonna target.\n",
    "\n",
    "Vi sono numerose metodologie per trattare valori mancanti, le principali sono:\n",
    "\n",
    "- Complete Case Analysis (CCA): consiste nel droppare tutte le righe che presentano valori mancanti, ok quando i valori mancanti sono pochi rispetto al numero dei dati, inoltre preserva la distribuzione della variabile\n",
    "\n",
    "- Mean/median imputation: consiste nel sostituire i valori mancanti con la media (se distribuzione simmetrica) o mediana (se distribuzione distorta), ok quando valori mancanti sono pochi rispetto al numero dei dati altrimenti causa sottostima della varianza della variabile\n",
    "\n",
    "- Random imputation: consiste nel sostituire i valori mancanti della variabile con campioni estratti in modo randomico dalla realizzazione della variabile stessa, vantaggio è che preserva la varianza della variabile  \n",
    "\n",
    "- Arbitrary value imputation: consiste nel sostituire i valori mancanti della variabile con valori arbitrari, utile nel caso in cui i valori mancanti nascondano una informazione e non siano invece mancanti per ragioni dovute al caso\n",
    "\n",
    "- Reconstruction: nel caso in cui i dati non siano iid cioè per esempio abbiano una dipendenza temporale è possibile ricostruire i valori mancanti con un modello, tramite interpolazione, tramite media tra il valore precedente e il valore successivo...\n",
    "\n",
    "- ...\n",
    "\n",
    "Nel nostro caso, dal momento che i dati mancanti sono solo 2 su 9562 cioè lo 0.02% possiamo tranquillamente utilizzare la CCA e dropparli dal dataset."
   ]
  },
  {
   "cell_type": "code",
   "execution_count": 7,
   "metadata": {},
   "outputs": [
    {
     "data": {
      "text/plain": [
       "at    0\n",
       "v     0\n",
       "ap    0\n",
       "rh    0\n",
       "pe    0\n",
       "dtype: int64"
      ]
     },
     "execution_count": 7,
     "metadata": {},
     "output_type": "execute_result"
    }
   ],
   "source": [
    "df.dropna(inplace=True)\n",
    "df.isnull().sum()"
   ]
  },
  {
   "cell_type": "markdown",
   "metadata": {},
   "source": [
    "Abbiamo rimosso tutti i valori mancanti NaN, dobbiamo ancora verificare che le singole variabili non presentino valori fuori range tipici che indicano valori mancanti, i più tipici sono 0, -999...\n",
    "\n",
    "Per farlo occorre visualizzare la distribuzione dei delle singole variabili tramite, per esempio, istogrammi e verificare che non vi siano distribuzioni di valori fuori dal range della variabile stessa, per esempio accumuli in 0 o in -999.\n",
    "\n",
    "Lo facciamo trattando singolarmente le singole variabili e definendo una funzione appropriata in grado di plottare il segnale insieme alla sua distribuzione empirica "
   ]
  },
  {
   "cell_type": "code",
   "execution_count": 8,
   "metadata": {},
   "outputs": [],
   "source": [
    "def ts_hist(y, title='', bins=25, figsize=(10, 4)):\n",
    "\n",
    "    fig = plt.figure(figsize=figsize)\n",
    "    layout = (1, 2)\n",
    "    ts_ax   = plt.subplot2grid(layout, (0, 0))\n",
    "    hist_ax = plt.subplot2grid(layout, (0, 1))\n",
    "    \n",
    "    y.plot(ax=ts_ax, grid=True)\n",
    "    ts_ax.set_title(title)\n",
    "    y.plot(ax=hist_ax, kind='hist', bins=bins, grid=True)\n",
    "    hist_ax.set_title('Histogram')\n",
    "    #sns.despine()\n",
    "    plt.tight_layout()"
   ]
  },
  {
   "cell_type": "markdown",
   "metadata": {},
   "source": [
    "### ap"
   ]
  },
  {
   "cell_type": "code",
   "execution_count": 9,
   "metadata": {},
   "outputs": [
    {
     "data": {
      "image/png": "[encoded data removed]",
      "text/plain": [
       "<Figure size 720x288 with 2 Axes>"
      ]
     },
     "metadata": {
      "needs_background": "light"
     },
     "output_type": "display_data"
    }
   ],
   "source": [
    "ts_hist(df.ap, title='ap')"
   ]
  },
  {
   "cell_type": "markdown",
   "metadata": {},
   "source": [
    "E' evidente che questa variabile ha un valore completamente fuori range"
   ]
  },
  {
   "cell_type": "code",
   "execution_count": 10,
   "metadata": {},
   "outputs": [
    {
     "data": {
      "text/plain": [
       "100499.0"
      ]
     },
     "execution_count": 10,
     "metadata": {},
     "output_type": "execute_result"
    }
   ],
   "source": [
    "df.loc[df.ap.idxmax(),'ap']"
   ]
  },
  {
   "cell_type": "code",
   "execution_count": 11,
   "metadata": {},
   "outputs": [
    {
     "data": {
      "text/plain": [
       "3866      1005.13\n",
       "3867      1014.35\n",
       "3868      1018.13\n",
       "3869      1006.71\n",
       "3870      1009.77\n",
       "3871      1011.96\n",
       "3872      1010.96\n",
       "3873      1010.76\n",
       "3874      1014.32\n",
       "3875      1017.45\n",
       "3876    100499.00\n",
       "3877      1021.83\n",
       "3878      1007.78\n",
       "3879      1008.01\n",
       "3880      1016.07\n",
       "3881      1005.82\n",
       "3882      1011.20\n",
       "3883      1003.95\n",
       "3884      1015.35\n",
       "3886      1014.31\n",
       "Name: ap, dtype: float64"
      ]
     },
     "execution_count": 11,
     "metadata": {},
     "output_type": "execute_result"
    }
   ],
   "source": [
    "df.loc[df.ap.idxmax()-10:df.ap.idxmax()+10,'ap']"
   ]
  },
  {
   "cell_type": "markdown",
   "metadata": {},
   "source": [
    "Vedendo i valori precedenti e successivi al valore si osserva come molto probabilmente vi sia stato un errore di posizionamento della virgola, infatti il valore è in linea con gli altri valori ma moltiplicato di un fattore 100, di conseguenza invece di sostituirlo con la media o mediana della variabile ap posso pensare di dividere questo valore per 100 per riottenere il valore presunto originale, ottenendo:"
   ]
  },
  {
   "cell_type": "code",
   "execution_count": 12,
   "metadata": {},
   "outputs": [],
   "source": [
    "df.loc[df.ap.idxmax(),'ap'] = df.loc[df.ap.idxmax(),'ap']/100.0"
   ]
  },
  {
   "cell_type": "code",
   "execution_count": 13,
   "metadata": {},
   "outputs": [
    {
     "data": {
      "image/png": "[encoded data removed]",
      "text/plain": [
       "<Figure size 720x288 with 2 Axes>"
      ]
     },
     "metadata": {
      "needs_background": "light"
     },
     "output_type": "display_data"
    }
   ],
   "source": [
    "ts_hist(df.ap)"
   ]
  },
  {
   "cell_type": "markdown",
   "metadata": {},
   "source": [
    "Si osserva che la variabile ap è distribuita come una Gaussiana con media e deviazione standard campionarie:"
   ]
  },
  {
   "cell_type": "code",
   "execution_count": 14,
   "metadata": {},
   "outputs": [
    {
     "data": {
      "text/plain": [
       "(1013.2605355648443, 5.93866150725406)"
      ]
     },
     "execution_count": 14,
     "metadata": {},
     "output_type": "execute_result"
    }
   ],
   "source": [
    "df.ap.mean(), df.ap.std()"
   ]
  },
  {
   "cell_type": "markdown",
   "metadata": {},
   "source": [
    "### pe"
   ]
  },
  {
   "cell_type": "code",
   "execution_count": 15,
   "metadata": {},
   "outputs": [
    {
     "data": {
      "image/png": "[encoded data removed]",
      "text/plain": [
       "<Figure size 720x288 with 2 Axes>"
      ]
     },
     "metadata": {
      "needs_background": "light"
     },
     "output_type": "display_data"
    }
   ],
   "source": [
    "ts_hist(df.pe)"
   ]
  },
  {
   "cell_type": "code",
   "execution_count": 16,
   "metadata": {},
   "outputs": [
    {
     "data": {
      "text/plain": [
       "84        462.58\n",
       "85        483.27\n",
       "86        438.51\n",
       "87        431.03\n",
       "88        484.00\n",
       "89        431.64\n",
       "90        451.78\n",
       "91        439.46\n",
       "92        467.23\n",
       "93        459.81\n",
       "94     447150.00\n",
       "95        442.00\n",
       "96        449.61\n",
       "97        481.28\n",
       "98        437.54\n",
       "99        475.52\n",
       "100       474.35\n",
       "101       481.96\n",
       "102       479.66\n",
       "103       435.28\n",
       "104       434.86\n",
       "Name: pe, dtype: float64"
      ]
     },
     "execution_count": 16,
     "metadata": {},
     "output_type": "execute_result"
    }
   ],
   "source": [
    "df.loc[df.pe.idxmax()-10:df.pe.idxmax()+10,'pe']"
   ]
  },
  {
   "cell_type": "markdown",
   "metadata": {},
   "source": [
    "Come nel caso di prima anche qui sembra che vi sia un valore con la virgola posizionata nel punto sbagliato, ma questa volta la differenza è di un fattore 1000"
   ]
  },
  {
   "cell_type": "code",
   "execution_count": 17,
   "metadata": {},
   "outputs": [],
   "source": [
    "df.loc[df.pe.idxmax(),'pe'] = df.loc[df.pe.idxmax(),'pe']/1000.0"
   ]
  },
  {
   "cell_type": "code",
   "execution_count": 18,
   "metadata": {},
   "outputs": [
    {
     "data": {
      "image/png": "[encoded data removed]",
      "text/plain": [
       "<Figure size 720x288 with 2 Axes>"
      ]
     },
     "metadata": {
      "needs_background": "light"
     },
     "output_type": "display_data"
    }
   ],
   "source": [
    "ts_hist(df.pe)"
   ]
  },
  {
   "cell_type": "markdown",
   "metadata": {},
   "source": [
    "Si osserva che pe è distribuita come una mistura di Gaussiane "
   ]
  },
  {
   "cell_type": "markdown",
   "metadata": {},
   "source": [
    "### at"
   ]
  },
  {
   "cell_type": "code",
   "execution_count": 19,
   "metadata": {},
   "outputs": [
    {
     "data": {
      "image/png": "[encoded data removed]",
      "text/plain": [
       "<Figure size 720x288 with 2 Axes>"
      ]
     },
     "metadata": {
      "needs_background": "light"
     },
     "output_type": "display_data"
    }
   ],
   "source": [
    "ts_hist(df['at'])"
   ]
  },
  {
   "cell_type": "markdown",
   "metadata": {},
   "source": [
    "Si osserva che at è distribuita come una mistura di Gaussiane "
   ]
  },
  {
   "cell_type": "markdown",
   "metadata": {},
   "source": [
    "### v"
   ]
  },
  {
   "cell_type": "code",
   "execution_count": 20,
   "metadata": {},
   "outputs": [
    {
     "data": {
      "image/png": "[encoded data removed]",
      "text/plain": [
       "<Figure size 720x288 with 2 Axes>"
      ]
     },
     "metadata": {
      "needs_background": "light"
     },
     "output_type": "display_data"
    }
   ],
   "source": [
    "ts_hist(df.v, bins=40)"
   ]
  },
  {
   "cell_type": "markdown",
   "metadata": {},
   "source": [
    "In entrambi i grafici sono evidenti degli outlier negativi "
   ]
  },
  {
   "cell_type": "markdown",
   "metadata": {},
   "source": [
    "### rh"
   ]
  },
  {
   "cell_type": "code",
   "execution_count": 21,
   "metadata": {},
   "outputs": [
    {
     "data": {
      "image/png": "[encoded data removed]",
      "text/plain": [
       "<Figure size 720x288 with 2 Axes>"
      ]
     },
     "metadata": {
      "needs_background": "light"
     },
     "output_type": "display_data"
    }
   ],
   "source": [
    "ts_hist(df.rh)"
   ]
  },
  {
   "cell_type": "markdown",
   "metadata": {},
   "source": [
    "La variabile rh ha una distribuzione con skew negativa"
   ]
  },
  {
   "cell_type": "code",
   "execution_count": 22,
   "metadata": {},
   "outputs": [
    {
     "data": {
      "text/plain": [
       "-0.43256798257214485"
      ]
     },
     "execution_count": 22,
     "metadata": {},
     "output_type": "execute_result"
    }
   ],
   "source": [
    "df.rh.skew()"
   ]
  },
  {
   "cell_type": "markdown",
   "metadata": {},
   "source": [
    "Questa variabile è stata sogliata a posteriori ad un massimo valore di 100, e ciò è reso ancora più evidente dal fatto che nel valore 100 vi è un picco di campioni, presumibilmente tutti quelli che superavano tale valore di soglia"
   ]
  },
  {
   "cell_type": "code",
   "execution_count": 23,
   "metadata": {
    "scrolled": true
   },
   "outputs": [
    {
     "data": {
      "text/plain": [
       "100.09    26\n",
       "82.80     10\n",
       "76.05      8\n",
       "89.86      8\n",
       "71.57      8\n",
       "75.09      8\n",
       "73.67      8\n",
       "85.23      8\n",
       "77.00      8\n",
       "70.02      7\n",
       "76.95      7\n",
       "79.23      7\n",
       "86.80      7\n",
       "82.98      7\n",
       "75.35      7\n",
       "74.24      7\n",
       "70.55      7\n",
       "82.49      7\n",
       "74.83      7\n",
       "84.41      7\n",
       "78.13      7\n",
       "100.13     7\n",
       "86.40      7\n",
       "63.62      7\n",
       "82.12      7\n",
       "70.12      7\n",
       "72.10      7\n",
       "85.06      7\n",
       "91.14      7\n",
       "72.81      6\n",
       "          ..\n",
       "47.28      1\n",
       "57.49      1\n",
       "72.09      1\n",
       "62.58      1\n",
       "98.09      1\n",
       "48.25      1\n",
       "85.50      1\n",
       "84.34      1\n",
       "91.52      1\n",
       "54.87      1\n",
       "89.31      1\n",
       "95.08      1\n",
       "69.40      1\n",
       "70.48      1\n",
       "51.41      1\n",
       "53.88      1\n",
       "60.19      1\n",
       "46.83      1\n",
       "30.99      1\n",
       "51.42      1\n",
       "97.69      1\n",
       "81.12      1\n",
       "59.35      1\n",
       "62.73      1\n",
       "71.45      1\n",
       "69.45      1\n",
       "70.92      1\n",
       "54.52      1\n",
       "86.15      1\n",
       "69.00      1\n",
       "Name: rh, Length: 4544, dtype: int64"
      ]
     },
     "execution_count": 23,
     "metadata": {},
     "output_type": "execute_result"
    }
   ],
   "source": [
    "df.rh.value_counts()"
   ]
  },
  {
   "cell_type": "markdown",
   "metadata": {},
   "source": [
    "con una trasformazione è possibile centrarla e rimuovere la skew negativa, ciò può essere utile nel caso in cui si volesse fittare un modello lineare dal momento che tali modelli assumono che le variabili siano distribuite come della gaussiane"
   ]
  },
  {
   "cell_type": "code",
   "execution_count": 24,
   "metadata": {},
   "outputs": [
    {
     "data": {
      "image/png": "[encoded data removed]",
      "text/plain": [
       "<Figure size 720x288 with 2 Axes>"
      ]
     },
     "metadata": {
      "needs_background": "light"
     },
     "output_type": "display_data"
    }
   ],
   "source": [
    "ts_hist((df.rh)**2)"
   ]
  },
  {
   "cell_type": "code",
   "execution_count": 25,
   "metadata": {},
   "outputs": [
    {
     "data": {
      "text/plain": [
       "-0.024938020492951758"
      ]
     },
     "execution_count": 25,
     "metadata": {},
     "output_type": "execute_result"
    }
   ],
   "source": [
    "(df.rh**2).skew()"
   ]
  },
  {
   "cell_type": "markdown",
   "metadata": {},
   "source": [
    "Salviamo il dataset pulito dei valori mancanti e dei valori errati"
   ]
  },
  {
   "cell_type": "code",
   "execution_count": 28,
   "metadata": {},
   "outputs": [],
   "source": [
    "df.reset_index(drop=True).to_csv('data/data01.csv')"
   ]
  },
  {
   "cell_type": "code",
   "execution_count": null,
   "metadata": {},
   "outputs": [],
   "source": []
  }
 ],
 "metadata": {
  "kernelspec": {
   "display_name": "Python [conda env:tenaris]",
   "language": "python",
   "name": "conda-env-tenaris-py"
  },
  "language_info": {
   "codemirror_mode": {
    "name": "ipython",
    "version": 3
   },
   "file_extension": ".py",
   "mimetype": "text/x-python",
   "name": "python",
   "nbconvert_exporter": "python",
   "pygments_lexer": "ipython3",
   "version": "3.6.8"
  }
 },
 "nbformat": 4,
 "nbformat_minor": 2
}
