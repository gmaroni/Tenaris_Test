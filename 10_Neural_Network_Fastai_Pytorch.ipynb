{
 "cells": [
  {
   "cell_type": "code",
   "execution_count": 1,
   "metadata": {},
   "outputs": [],
   "source": [
    "from sklearn.model_selection import train_test_split\n",
    "import pandas as pd\n",
    "import seaborn as sns\n",
    "import numpy as np\n",
    "from fastai.tabular import *\n",
    "\n",
    "sns.set(style=\"whitegrid\")\n",
    "\n",
    "%load_ext autoreload\n",
    "%autoreload 2\n",
    "%matplotlib inline"
   ]
  },
  {
   "cell_type": "code",
   "execution_count": 64,
   "metadata": {},
   "outputs": [],
   "source": [
    "df = pd.read_csv('data/data02.csv', low_memory=False, index_col=0)"
   ]
  },
  {
   "cell_type": "code",
   "execution_count": 65,
   "metadata": {},
   "outputs": [],
   "source": [
    "# Y = df.pe.copy()\n",
    "# X = df.drop('pe',1)"
   ]
  },
  {
   "cell_type": "code",
   "execution_count": 66,
   "metadata": {},
   "outputs": [],
   "source": [
    "# train_size = int(len(X) * 0.8)\n",
    "# X_train, X_test = X[0:train_size], X[train_size:len(X)]\n",
    "# y_train, y_test = Y[0:train_size], Y[train_size:len(X)]"
   ]
  },
  {
   "cell_type": "code",
   "execution_count": 67,
   "metadata": {},
   "outputs": [],
   "source": [
    "train_size = int(len(df) * 0.8)\n",
    "df_train, df_test = df[0:train_size].copy(), df[train_size:len(df)].copy()"
   ]
  },
  {
   "cell_type": "code",
   "execution_count": 68,
   "metadata": {},
   "outputs": [
    {
     "data": {
      "text/plain": [
       "<matplotlib.axes._subplots.AxesSubplot at 0x23ec62b8390>"
      ]
     },
     "execution_count": 68,
     "metadata": {},
     "output_type": "execute_result"
    },
    {
     "data": {
      "image/png": "[encoded data removed]",
      "text/plain": [
       "<Figure size 432x288 with 1 Axes>"
      ]
     },
     "metadata": {
      "needs_background": "light"
     },
     "output_type": "display_data"
    }
   ],
   "source": [
    "df_train.pe.plot()\n",
    "df_test.pe.plot()"
   ]
  },
  {
   "cell_type": "code",
   "execution_count": 69,
   "metadata": {},
   "outputs": [],
   "source": [
    "y_test = df_test.pe.copy()"
   ]
  },
  {
   "cell_type": "code",
   "execution_count": 70,
   "metadata": {},
   "outputs": [],
   "source": [
    "df_test.drop('pe',axis=1,inplace=True)"
   ]
  },
  {
   "cell_type": "code",
   "execution_count": 50,
   "metadata": {},
   "outputs": [],
   "source": [
    "path='data'\n",
    "dep_var = 'pe'\n",
    "cont_names = df_test.columns\n",
    "procs = [Normalize]\n",
    "valid_idx = range(len(df_train)-1000, len(df_train))"
   ]
  },
  {
   "cell_type": "code",
   "execution_count": 26,
   "metadata": {},
   "outputs": [],
   "source": [
    "# test = TabularList.from_df(df_test, cont_names=cont_names, procs=procs)\n",
    "# data = (TabularList.from_df(df_train, path='.', cont_names=cont_names, procs=procs)\n",
    "#                                     .split_by_idx(valid_idx=range(len(df_train)-1000,len(df_train)))\n",
    "#                                     .label_from_df(cols=dep_var)\n",
    "#                                     .add_test(test, label=0)\n",
    "#                                     .databunch())"
   ]
  },
  {
   "cell_type": "code",
   "execution_count": 51,
   "metadata": {},
   "outputs": [],
   "source": [
    "data = TabularDataBunch.from_df(path, df_train, dep_var, valid_idx=valid_idx, procs=procs, cont_names=cont_names)"
   ]
  },
  {
   "cell_type": "code",
   "execution_count": 52,
   "metadata": {
    "scrolled": false
   },
   "outputs": [
    {
     "data": {
      "text/html": [
       "<table border=\"1\" class=\"dataframe\">\n",
       "  <thead>\n",
       "    <tr style=\"text-align: right;\">\n",
       "      <th>at</th>\n",
       "      <th>v</th>\n",
       "      <th>ap</th>\n",
       "      <th>rh</th>\n",
       "      <th>target</th>\n",
       "    </tr>\n",
       "  </thead>\n",
       "  <tbody>\n",
       "    <tr>\n",
       "      <td>-1.6589</td>\n",
       "      <td>-1.0710</td>\n",
       "      <td>1.5781</td>\n",
       "      <td>0.9873</td>\n",
       "      <td>484.29</td>\n",
       "    </tr>\n",
       "    <tr>\n",
       "      <td>1.4427</td>\n",
       "      <td>1.8009</td>\n",
       "      <td>-1.8075</td>\n",
       "      <td>-0.9427</td>\n",
       "      <td>438.43</td>\n",
       "    </tr>\n",
       "    <tr>\n",
       "      <td>-1.8935</td>\n",
       "      <td>-1.1731</td>\n",
       "      <td>1.9382</td>\n",
       "      <td>0.3622</td>\n",
       "      <td>482.11</td>\n",
       "    </tr>\n",
       "    <tr>\n",
       "      <td>0.4745</td>\n",
       "      <td>1.1524</td>\n",
       "      <td>-0.5943</td>\n",
       "      <td>1.0816</td>\n",
       "      <td>448.6</td>\n",
       "    </tr>\n",
       "    <tr>\n",
       "      <td>0.2870</td>\n",
       "      <td>0.6837</td>\n",
       "      <td>-0.2712</td>\n",
       "      <td>0.9429</td>\n",
       "      <td>443.1</td>\n",
       "    </tr>\n",
       "    <tr>\n",
       "      <td>-0.6421</td>\n",
       "      <td>-1.1276</td>\n",
       "      <td>0.7586</td>\n",
       "      <td>-0.5321</td>\n",
       "      <td>456.41</td>\n",
       "    </tr>\n",
       "    <tr>\n",
       "      <td>1.0718</td>\n",
       "      <td>0.9978</td>\n",
       "      <td>-1.2673</td>\n",
       "      <td>-0.8743</td>\n",
       "      <td>439.03</td>\n",
       "    </tr>\n",
       "    <tr>\n",
       "      <td>1.7784</td>\n",
       "      <td>0.9483</td>\n",
       "      <td>-0.5455</td>\n",
       "      <td>-0.8655</td>\n",
       "      <td>431.54</td>\n",
       "    </tr>\n",
       "    <tr>\n",
       "      <td>1.4885</td>\n",
       "      <td>1.3668</td>\n",
       "      <td>-1.1681</td>\n",
       "      <td>-1.3553</td>\n",
       "      <td>434.89</td>\n",
       "    </tr>\n",
       "    <tr>\n",
       "      <td>-0.4722</td>\n",
       "      <td>-1.2273</td>\n",
       "      <td>-1.8580</td>\n",
       "      <td>0.1238</td>\n",
       "      <td>467.89</td>\n",
       "    </tr>\n",
       "  </tbody>\n",
       "</table>"
      ],
      "text/plain": [
       "<IPython.core.display.HTML object>"
      ]
     },
     "metadata": {},
     "output_type": "display_data"
    }
   ],
   "source": [
    "data.show_batch(rows=10)"
   ]
  },
  {
   "cell_type": "code",
   "execution_count": 142,
   "metadata": {},
   "outputs": [],
   "source": [
    "learn = tabular_learner(data, layers=[200,100], metrics=mse)"
   ]
  },
  {
   "cell_type": "code",
   "execution_count": 120,
   "metadata": {},
   "outputs": [
    {
     "data": {
      "text/html": [],
      "text/plain": [
       "<IPython.core.display.HTML object>"
      ]
     },
     "metadata": {},
     "output_type": "display_data"
    },
    {
     "name": "stdout",
     "output_type": "stream",
     "text": [
      "LR Finder is complete, type {learner_name}.recorder.plot() to see the graph.\n"
     ]
    },
    {
     "data": {
      "image/png": "[encoded data removed]",
      "text/plain": [
       "<Figure size 432x288 with 1 Axes>"
      ]
     },
     "metadata": {
      "needs_background": "light"
     },
     "output_type": "display_data"
    }
   ],
   "source": [
    "learn.lr_find()\n",
    "learn.recorder.plot()"
   ]
  },
  {
   "cell_type": "code",
   "execution_count": 143,
   "metadata": {},
   "outputs": [
    {
     "data": {
      "text/html": [
       "<table border=\"1\" class=\"dataframe\">\n",
       "  <thead>\n",
       "    <tr style=\"text-align: left;\">\n",
       "      <th>epoch</th>\n",
       "      <th>train_loss</th>\n",
       "      <th>valid_loss</th>\n",
       "      <th>mean_squared_error</th>\n",
       "      <th>time</th>\n",
       "    </tr>\n",
       "  </thead>\n",
       "  <tbody>\n",
       "    <tr>\n",
       "      <td>0</td>\n",
       "      <td>205396.125000</td>\n",
       "      <td>204115.484375</td>\n",
       "      <td>204115.484375</td>\n",
       "      <td>01:22</td>\n",
       "    </tr>\n",
       "    <tr>\n",
       "      <td>1</td>\n",
       "      <td>168570.500000</td>\n",
       "      <td>121403.250000</td>\n",
       "      <td>121403.250000</td>\n",
       "      <td>01:22</td>\n",
       "    </tr>\n",
       "    <tr>\n",
       "      <td>2</td>\n",
       "      <td>44737.980469</td>\n",
       "      <td>2061.586914</td>\n",
       "      <td>2061.586914</td>\n",
       "      <td>01:21</td>\n",
       "    </tr>\n",
       "    <tr>\n",
       "      <td>3</td>\n",
       "      <td>5684.653320</td>\n",
       "      <td>19.295523</td>\n",
       "      <td>19.295525</td>\n",
       "      <td>01:20</td>\n",
       "    </tr>\n",
       "    <tr>\n",
       "      <td>4</td>\n",
       "      <td>733.639771</td>\n",
       "      <td>19.282078</td>\n",
       "      <td>19.282078</td>\n",
       "      <td>01:20</td>\n",
       "    </tr>\n",
       "    <tr>\n",
       "      <td>5</td>\n",
       "      <td>112.710930</td>\n",
       "      <td>18.324476</td>\n",
       "      <td>18.324478</td>\n",
       "      <td>01:20</td>\n",
       "    </tr>\n",
       "    <tr>\n",
       "      <td>6</td>\n",
       "      <td>34.637680</td>\n",
       "      <td>17.167755</td>\n",
       "      <td>17.167755</td>\n",
       "      <td>01:22</td>\n",
       "    </tr>\n",
       "    <tr>\n",
       "      <td>7</td>\n",
       "      <td>23.278425</td>\n",
       "      <td>17.704012</td>\n",
       "      <td>17.704016</td>\n",
       "      <td>01:20</td>\n",
       "    </tr>\n",
       "    <tr>\n",
       "      <td>8</td>\n",
       "      <td>22.479193</td>\n",
       "      <td>17.252800</td>\n",
       "      <td>17.252800</td>\n",
       "      <td>01:22</td>\n",
       "    </tr>\n",
       "    <tr>\n",
       "      <td>9</td>\n",
       "      <td>21.502867</td>\n",
       "      <td>16.270477</td>\n",
       "      <td>16.270479</td>\n",
       "      <td>01:23</td>\n",
       "    </tr>\n",
       "  </tbody>\n",
       "</table>"
      ],
      "text/plain": [
       "<IPython.core.display.HTML object>"
      ]
     },
     "metadata": {},
     "output_type": "display_data"
    }
   ],
   "source": [
    "learn.fit_one_cycle(10, 0.01)"
   ]
  },
  {
   "cell_type": "code",
   "execution_count": 144,
   "metadata": {
    "scrolled": true
   },
   "outputs": [],
   "source": [
    "preds=np.zeros_like(y_test)\n",
    "for i in range(len(y_test)):\n",
    "    preds[i]=learn.predict(df_test.iloc[i])[1].item()"
   ]
  },
  {
   "cell_type": "code",
   "execution_count": 145,
   "metadata": {},
   "outputs": [
    {
     "data": {
      "text/plain": [
       "(0.9470442799055088, 15.936577406101723)"
      ]
     },
     "execution_count": 145,
     "metadata": {},
     "output_type": "execute_result"
    }
   ],
   "source": [
    "from sklearn.metrics import r2_score, mean_squared_error\n",
    "r2_score(y_test,preds),mean_squared_error(y_test,preds)"
   ]
  },
  {
   "cell_type": "code",
   "execution_count": 158,
   "metadata": {},
   "outputs": [],
   "source": [
    "learn.export()"
   ]
  }
 ],
 "metadata": {
  "kernelspec": {
   "display_name": "Python [conda env:tenaris]",
   "language": "python",
   "name": "conda-env-tenaris-py"
  },
  "language_info": {
   "codemirror_mode": {
    "name": "ipython",
    "version": 3
   },
   "file_extension": ".py",
   "mimetype": "text/x-python",
   "name": "python",
   "nbconvert_exporter": "python",
   "pygments_lexer": "ipython3",
   "version": "3.6.8"
  }
 },
 "nbformat": 4,
 "nbformat_minor": 2
}
