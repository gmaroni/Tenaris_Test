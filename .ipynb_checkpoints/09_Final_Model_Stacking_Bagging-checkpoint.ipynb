{
 "cells": [
  {
   "cell_type": "code",
   "execution_count": 3,
   "metadata": {},
   "outputs": [],
   "source": [
    "from xgboost import XGBRegressor\n",
    "from sklearn.model_selection import train_test_split, KFold\n",
    "\n",
    "import pandas as pd\n",
    "from sklearn import preprocessing\n",
    "import seaborn as sns\n",
    "\n",
    "from xgboost import plot_importance\n",
    "import numpy as np\n",
    "from sklearn.metrics import r2_score\n",
    "from sklearn.metrics import mean_squared_error\n",
    "import lightgbm as lgb\n",
    "from joblib import load\n",
    "import matplotlib.pyplot as plt\n",
    "\n",
    "plt.rcParams['grid.linestyle'] = '--'\n",
    "plt.rcParams['axes.grid'] = True\n",
    "\n",
    "%load_ext autoreload\n",
    "%autoreload 2\n",
    "%matplotlib inline"
   ]
  },
  {
   "cell_type": "code",
   "execution_count": 4,
   "metadata": {},
   "outputs": [],
   "source": [
    "def rmse(X, y): return np.sqrt(mean_squared_error(X,y))\n",
    "\n",
    "def print_score(m):\n",
    "    print('RMSE train: ',rmse(y_train, m.predict(X_train)))\n",
    "    print('RMSE test: ',rmse(y_test, m.predict(X_test)))\n",
    "    print('R2 train: ',r2_score(y_train, m.predict(X_train)))\n",
    "    print('R2 test: ',r2_score(y_test, m.predict(X_test)))"
   ]
  },
  {
   "cell_type": "markdown",
   "metadata": {},
   "source": [
    "# Strategia di test\n",
    "\n",
    "#### In questo notebook si vuole fittare un modello ai dati, dal momento che le specifiche del progetto non parlano di un metodologia di testing specifica e dal momento che non mi è stato fornito un test set simulerò quello che potrebbe succedere nella realtà. \n",
    "\n",
    "#### Dal momento che abbiamo a che fare con variabili fisiche che variano nel tempo mi metto nella situazione reale in cui sarei testato su dati futuri non ancora misurati. Per simulare questa situazione la cosa ottimale da fare è quella di selezionare i dati più recenti del dataset a me fornitomi e utilizzarne una percentuale come datset di test. Per esempio posso assumere che l'istante di tempo attuale corrisponda al valore 7648 ovvero all'indice del valore corrispondente all'80% del dataset e che tutti i dati futuri non siano ancora stati misurati. Utilizzero quindi il primo 80% dei dati come dati di training e il restante 20% come dataset di test"
   ]
  },
  {
   "cell_type": "markdown",
   "metadata": {},
   "source": [
    "# Strategia di validazione\n",
    "\n",
    "#### Dal momento che i dati non hanno una dipendenza temporale e sono quindi dati iid  non occorre utilizzare una strategia di validazione necessaria se si ha a che fare con le serie temporali (Time Series K-fold Cross Validation tipica in ambito finanziario per effettuare il backtesting dei modelli). Utilizzerò' quindi la classica K-fold Cross Validation\n",
    "\n",
    "# Metrica di valutazione\n",
    "\n",
    "#### Dal momento che le specifiche del progetto non riportano una particolare metrica di valutazione per la valutazione delle predizioni dei modelli utilizzerò le metriche classiche di regressione come MSE, RMSE ed R^2, questo perchè ottimizzare le performance rispetto ad una di queste 3 metriche corrisponde ad ottimizzare le performances rispetto anche alle altre 2.\n",
    "\n",
    "#### Non utilizzerò metriche come MAPE (Mean Absolute Percentage Error), sebbene metrica molto utilizzata sopratutto in ambito business, dal momento che per ottimizzare le performances rispetto a tale metrica dovrei riallenare i modelli pesando i dati inversamente rispetto al valore della target corrispondente in quanto tali metriche penalizzano maggiormente errori di predizione rispetto a valori bassi della target "
   ]
  },
  {
   "cell_type": "markdown",
   "metadata": {},
   "source": [
    "# Feature Engineering\n",
    "\n",
    "#### Dal momento che il test non ha come obiettivo quello di ottenere le performance di predizioni migliori possibili, ma piuttosto ha come obiettivo quello di valutarci in  base ai nostri processi decisionali, valutazioni sull'importanza delle features e fase di modellizzazione, si è scelto di non effettuare feature engineering. "
   ]
  },
  {
   "cell_type": "markdown",
   "metadata": {},
   "source": [
    "# Stacking"
   ]
  },
  {
   "cell_type": "markdown",
   "metadata": {},
   "source": [
    "In questo notebook si proverà a combinare i modelli creati nei notebook precedenti attraverso la tecnica di ensembling chiamata stacking. Dal momento che i modelli di Gradient Boosting sono abbastanza simili tra loro è probabile che producano predizioni fortemente correlate tra di loro e di conseguenza non mi aspetto grossi miglioramenti nelle performances"
   ]
  },
  {
   "cell_type": "code",
   "execution_count": 5,
   "metadata": {},
   "outputs": [],
   "source": [
    "RIDGE = load('models/Ridge.joblib')\n",
    "XGB = load('models/XGBoost.joblib')\n",
    "LGB1 = load('models/LightGBM1.joblib')\n",
    "LGB2 = load('models/LightGBM2.joblib')"
   ]
  },
  {
   "cell_type": "code",
   "execution_count": 6,
   "metadata": {},
   "outputs": [],
   "source": [
    "df = pd.read_csv('data/data02.csv', low_memory=False, index_col=0)"
   ]
  },
  {
   "cell_type": "code",
   "execution_count": 7,
   "metadata": {},
   "outputs": [],
   "source": [
    "Y = df.pe.copy()\n",
    "X = df.drop('pe',1)"
   ]
  },
  {
   "cell_type": "code",
   "execution_count": 8,
   "metadata": {},
   "outputs": [],
   "source": [
    "train_size = int(len(X) * 0.8)\n",
    "X_train, X_test = X[0:train_size].copy(), X[train_size:len(X)].copy()\n",
    "y_train, y_test = Y[0:train_size].copy(), Y[train_size:len(X)].copy()"
   ]
  },
  {
   "cell_type": "code",
   "execution_count": 9,
   "metadata": {},
   "outputs": [],
   "source": [
    "ntrain = X_train.shape[0]\n",
    "ntest = X_test.shape[0]\n",
    "SEED = 0 \n",
    "NFOLDS = 5 \n",
    "kf = KFold(n_splits=NFOLDS, random_state=SEED)"
   ]
  },
  {
   "cell_type": "code",
   "execution_count": 10,
   "metadata": {},
   "outputs": [],
   "source": [
    "def get_oof(model, X_train, y_train, X_test):\n",
    "    oof_train = np.zeros((ntrain,))\n",
    "    oof_test = np.zeros((ntest,))\n",
    "    oof_test_skf = np.empty((NFOLDS, ntest))\n",
    "\n",
    "    for i, (train_index, test_index) in enumerate(kf.split(X_train)):\n",
    "        x_tr = X_train.iloc[train_index]\n",
    "        y_tr = y_train.iloc[train_index]\n",
    "        x_te = X_train.iloc[test_index]\n",
    "\n",
    "        oof_train[test_index] = model.predict(x_te)\n",
    "        oof_test_skf[i, :] = model.predict(X_test)\n",
    "\n",
    "    oof_test[:] = oof_test_skf.mean(axis=0)\n",
    "    return oof_train.reshape(-1, 1), oof_test.reshape(-1, 1)"
   ]
  },
  {
   "cell_type": "code",
   "execution_count": 12,
   "metadata": {
    "scrolled": true
   },
   "outputs": [],
   "source": [
    "XGB_oof_train, XGB_oof_test = get_oof(XGB, X_train, y_train, X_test) \n",
    "LGB1_oof_train, LGB1_oof_test = get_oof(LGB1, X_train, y_train, X_test) \n",
    "LGB2_oof_train, LGB2_oof_test = get_oof(LGB2, X_train, y_train, X_test) "
   ]
  },
  {
   "cell_type": "code",
   "execution_count": 13,
   "metadata": {},
   "outputs": [],
   "source": [
    "X_train.v = 1.0/X_train.v\n",
    "X_test.v = 1.0/X_test.v\n",
    "RIDGE_oof_train, RIDGE_oof_test = get_oof(RIDGE, X_train, y_train, X_test) "
   ]
  },
  {
   "cell_type": "code",
   "execution_count": 14,
   "metadata": {
    "scrolled": true
   },
   "outputs": [
    {
     "data": {
      "text/html": [
       "<div>\n",
       "<style scoped>\n",
       "    .dataframe tbody tr th:only-of-type {\n",
       "        vertical-align: middle;\n",
       "    }\n",
       "\n",
       "    .dataframe tbody tr th {\n",
       "        vertical-align: top;\n",
       "    }\n",
       "\n",
       "    .dataframe thead th {\n",
       "        text-align: right;\n",
       "    }\n",
       "</style>\n",
       "<table border=\"1\" class=\"dataframe\">\n",
       "  <thead>\n",
       "    <tr style=\"text-align: right;\">\n",
       "      <th></th>\n",
       "      <th>XGBoost</th>\n",
       "      <th>RIDGE</th>\n",
       "      <th>LightGBM1</th>\n",
       "      <th>LightGBM2</th>\n",
       "    </tr>\n",
       "  </thead>\n",
       "  <tbody>\n",
       "    <tr>\n",
       "      <th>0</th>\n",
       "      <td>480.840027</td>\n",
       "      <td>477.056272</td>\n",
       "      <td>481.561648</td>\n",
       "      <td>480.747171</td>\n",
       "    </tr>\n",
       "    <tr>\n",
       "      <th>1</th>\n",
       "      <td>437.864868</td>\n",
       "      <td>437.879974</td>\n",
       "      <td>437.100082</td>\n",
       "      <td>437.267740</td>\n",
       "    </tr>\n",
       "    <tr>\n",
       "      <th>2</th>\n",
       "      <td>452.586426</td>\n",
       "      <td>454.955795</td>\n",
       "      <td>451.956538</td>\n",
       "      <td>452.845615</td>\n",
       "    </tr>\n",
       "    <tr>\n",
       "      <th>3</th>\n",
       "      <td>466.280762</td>\n",
       "      <td>469.919681</td>\n",
       "      <td>465.763348</td>\n",
       "      <td>464.407019</td>\n",
       "    </tr>\n",
       "    <tr>\n",
       "      <th>4</th>\n",
       "      <td>470.925903</td>\n",
       "      <td>468.291038</td>\n",
       "      <td>470.871203</td>\n",
       "      <td>471.550225</td>\n",
       "    </tr>\n",
       "  </tbody>\n",
       "</table>\n",
       "</div>"
      ],
      "text/plain": [
       "      XGBoost       RIDGE   LightGBM1   LightGBM2\n",
       "0  480.840027  477.056272  481.561648  480.747171\n",
       "1  437.864868  437.879974  437.100082  437.267740\n",
       "2  452.586426  454.955795  451.956538  452.845615\n",
       "3  466.280762  469.919681  465.763348  464.407019\n",
       "4  470.925903  468.291038  470.871203  471.550225"
      ]
     },
     "execution_count": 14,
     "metadata": {},
     "output_type": "execute_result"
    }
   ],
   "source": [
    "base_predictions_train = pd.DataFrame( {'XGBoost': XGB_oof_train.ravel(),\n",
    "     'RIDGE': RIDGE_oof_train.ravel(),\n",
    "     'LightGBM1': LGB1_oof_train.ravel(),\n",
    "      'LightGBM2': LGB2_oof_train.ravel()\n",
    "    })\n",
    "base_predictions_train.head()"
   ]
  },
  {
   "cell_type": "code",
   "execution_count": 15,
   "metadata": {},
   "outputs": [],
   "source": [
    "x_train = np.concatenate(( XGB_oof_train, RIDGE_oof_train, LGB1_oof_train, LGB2_oof_train), axis=1)\n",
    "x_test = np.concatenate(( XGB_oof_test, RIDGE_oof_test,  LGB1_oof_test, LGB2_oof_test), axis=1)"
   ]
  },
  {
   "cell_type": "code",
   "execution_count": 16,
   "metadata": {},
   "outputs": [],
   "source": [
    "gbm = XGBRegressor(\n",
    "    #learning_rate = 0.02,\n",
    " n_estimators= 2000,\n",
    " max_depth= 4,\n",
    " min_child_weight= 2,\n",
    " #gamma=1,\n",
    " gamma=0.9,                        \n",
    " subsample=0.8,\n",
    " colsample_bytree=0.8,\n",
    " nthread= -1,).fit(x_train, y_train)\n",
    "predictions = gbm.predict(x_test)"
   ]
  },
  {
   "cell_type": "code",
   "execution_count": 17,
   "metadata": {},
   "outputs": [
    {
     "data": {
      "text/plain": [
       "0.9668579878699982"
      ]
     },
     "execution_count": 17,
     "metadata": {},
     "output_type": "execute_result"
    }
   ],
   "source": [
    "r2_score(y_test,predictions)"
   ]
  },
  {
   "cell_type": "markdown",
   "metadata": {},
   "source": [
    "Lo stacking finale dei modelli putroppo non apporta un miglioramento ma bensì un peggioramento delle performance, questo è sicuramente dovuto al fatto che le predizioni dei singoli modelli sono molto correlate tra loro, verifichiamolo"
   ]
  },
  {
   "cell_type": "code",
   "execution_count": 18,
   "metadata": {},
   "outputs": [
    {
     "data": {
      "image/png": "[encoded data removed]",
      "text/plain": [
       "<Figure size 432x288 with 2 Axes>"
      ]
     },
     "metadata": {
      "needs_background": "light"
     },
     "output_type": "display_data"
    }
   ],
   "source": [
    "ax=sns.heatmap(base_predictions_train.corr(), annot=True, fmt=\".2f\")"
   ]
  },
  {
   "cell_type": "markdown",
   "metadata": {},
   "source": [
    "# Bagging"
   ]
  },
  {
   "cell_type": "markdown",
   "metadata": {},
   "source": [
    "Vi sono una miriade di modi per fare bagging di un modello, qui sotto per esempio alleno un numero arbitrario di XGBoost diversi ognuno con un seed diverso e poi faccio averaging delle predizioni."
   ]
  },
  {
   "cell_type": "code",
   "execution_count": 19,
   "metadata": {},
   "outputs": [],
   "source": [
    "XGB = XGBRegressor(learning_rate=0.1,min_child_weight=5, max_depth=9,n_estimators=400,colsample_bytree=0.7,subsample=0.9,gamma=0.3,\n",
    "                   nthread=-1,seed=27)\n",
    "\n",
    "r2_hist=[]\n",
    "rmse_hist=[]\n",
    "for bag in range(1,30):\n",
    "    bags=bag\n",
    "    seed=1\n",
    "\n",
    "    bagged_prediction = np.zeros(len(X_test))\n",
    "\n",
    "    for n in range(0, bags):\n",
    "        XGB.set_params(seed=seed+n)\n",
    "        XGB.fit(X_train,y_train)\n",
    "        preds=XGB.predict(X_test)\n",
    "        bagged_prediction+=preds\n",
    "\n",
    "    bagged_prediction/=bags\n",
    "\n",
    "    r2_hist.append(r2_score(y_test, bagged_prediction))\n",
    "    rmse_hist.append(rmse(y_test, bagged_prediction))"
   ]
  },
  {
   "cell_type": "code",
   "execution_count": 20,
   "metadata": {},
   "outputs": [
    {
     "data": {
      "text/plain": [
       "[<matplotlib.lines.Line2D at 0x1e67eabb908>]"
      ]
     },
     "execution_count": 20,
     "metadata": {},
     "output_type": "execute_result"
    },
    {
     "data": {
      "image/png": "[encoded data removed]",
      "text/plain": [
       "<Figure size 432x288 with 1 Axes>"
      ]
     },
     "metadata": {
      "needs_background": "light"
     },
     "output_type": "display_data"
    }
   ],
   "source": [
    "plt.plot(r2_hist)"
   ]
  },
  {
   "cell_type": "code",
   "execution_count": 21,
   "metadata": {},
   "outputs": [
    {
     "data": {
      "text/plain": [
       "[<matplotlib.lines.Line2D at 0x1e67f9153c8>]"
      ]
     },
     "execution_count": 21,
     "metadata": {},
     "output_type": "execute_result"
    },
    {
     "data": {
      "image/png": "[encoded data removed]",
      "text/plain": [
       "<Figure size 432x288 with 1 Axes>"
      ]
     },
     "metadata": {
      "needs_background": "light"
     },
     "output_type": "display_data"
    }
   ],
   "source": [
    "plt.plot(rmse_hist)"
   ]
  },
  {
   "cell_type": "code",
   "execution_count": 23,
   "metadata": {},
   "outputs": [
    {
     "name": "stdout",
     "output_type": "stream",
     "text": [
      "RMSE finale di test:  2.9594813424556006\n",
      "R2 finale di test:  0.970896244433518\n"
     ]
    }
   ],
   "source": [
    "print('RMSE finale di test: ',rmse_hist[-1])\n",
    "print('R2 finale di test: ',r2_hist[-1])"
   ]
  },
  {
   "cell_type": "code",
   "execution_count": null,
   "metadata": {},
   "outputs": [],
   "source": []
  }
 ],
 "metadata": {
  "kernelspec": {
   "display_name": "Python [conda env:tenaris]",
   "language": "python",
   "name": "conda-env-tenaris-py"
  },
  "language_info": {
   "codemirror_mode": {
    "name": "ipython",
    "version": 3
   },
   "file_extension": ".py",
   "mimetype": "text/x-python",
   "name": "python",
   "nbconvert_exporter": "python",
   "pygments_lexer": "ipython3",
   "version": "3.6.8"
  }
 },
 "nbformat": 4,
 "nbformat_minor": 2
}
